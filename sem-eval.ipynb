{
 "cells": [
  {
   "cell_type": "markdown",
   "metadata": {},
   "source": [
    "### Causal relation detection\n",
    "\n",
    "In this task, we will explore whether a causal relation can be detected by a NLP model given a sentence. We will use Large Pre-trained Language model as our encoder, then fine-tune it with our data. In addition, after getting the contextualised embedding of the input sentence, it will be pass to a shallow feed-forward neural network. Since huggingface provides a terrific module called BertForClassification, we will adopt it in the experiment.\n",
    "\n",
    "Dataset: Semeval-2010-Task 8\n",
    "\n",
    "1. Experiment planning\n",
    "    a. with ALL Data\n",
    "        i. \n",
    "    remove special tokens that indicating the positions of causal entities."
   ]
  },
  {
   "cell_type": "code",
   "execution_count": 152,
   "metadata": {},
   "outputs": [],
   "source": [
    "import pandas as pd\n",
    "import random\n",
    "import numpy as np\n",
    "import warnings\n",
    "\n",
    "from sklearn.model_selection import train_test_split \n",
    "from sklearn.utils import shuffle\n",
    "\n",
    "from datasets import load_dataset\n",
    "\n",
    "warnings.filterwarnings('ignore')"
   ]
  },
  {
   "cell_type": "code",
   "execution_count": 70,
   "metadata": {},
   "outputs": [],
   "source": [
    "#set random seed to keep consistency between different experiments\n",
    "seed_val = 42\n",
    "random.seed(seed_val)\n",
    "np.random.seed(seed_val)"
   ]
  },
  {
   "cell_type": "code",
   "execution_count": 249,
   "metadata": {},
   "outputs": [],
   "source": [
    "def make_df(dataset_):\n",
    "    index,sentence,relation = [],[],[]\n",
    "    for ind,data in enumerate(dataset_):\n",
    "        index.append(ind)\n",
    "        sentence.append(data['sentence'])\n",
    "        relation.append(data['relation'])\n",
    "        \n",
    "    df = pd.DataFrame({'index': index,\n",
    "                       'sentence': sentence,\n",
    "                       'relation': relation\n",
    "                      })\n",
    "    return df\n",
    "\n",
    "def data_exploration(df_train,df_test):\n",
    "    df_train['sentence_length'] = df_train['sentence'].str.split().str.len()\n",
    "    df_test['sentence_length'] = df_test['sentence'].str.split().str.len()\n",
    "    \n",
    "    print('For training data(have not been splitted to validation set), the description of sentence length is:')\n",
    "    print(df_train['sentence_length'].describe())\n",
    "    \n",
    "    print('\\nFor test data, the description of sentence length is:')\n",
    "    print(df_test['sentence_length'].describe())\n",
    "    \n",
    "    return\n",
    "\n",
    "def split_dataset_by_causation(df_train,df_test,balance):\n",
    "    df_causal_true = df_train[(df_train['relation'] == 0) | (df_train['relation'] == 1)]\n",
    "    df_causal_true['relation'] = 1\n",
    "    df_causal_false = df_train[(df_train['relation'] != 0) & (df_train['relation'] != 1)]\n",
    "    df_causal_false['relation'] = 0\n",
    "    \n",
    "    # if you wanna re-sample, do it here\n",
    "    if balance == True:\n",
    "        df_causal_false = df_causal_false.sample(len(df_causal_true))\n",
    "    \n",
    "    frames = [df_causal_true,df_causal_false]\n",
    "    df_train = pd.concat(frames)\n",
    "    df_train = shuffle(df_train)\n",
    "    \n",
    "    \n",
    "    df_causal_true = df_test[(df_test['relation'] == 0) | (df_test['relation'] == 1)]\n",
    "    df_causal_true['relation'] = 1\n",
    "    df_causal_false = df_test[(df_test['relation'] != 0) & (df_test['relation'] != 1)]\n",
    "    df_causal_false['relation'] = 0\n",
    "    \n",
    "    # if you wanna re-sample, do it here\n",
    "    if balance == True:\n",
    "        df_causal_false = df_causal_false.sample(len(df_causal_true))\n",
    "    \n",
    "    frames = [df_causal_true,df_causal_false]\n",
    "    df_test = pd.concat(frames)\n",
    "    df_test = shuffle(df_test)\n",
    "    return df_train,df_test\n",
    "    \n",
    "\n",
    "def dataset_loading(balance=False):\n",
    "    dataset = load_dataset('sem_eval_2010_task_8')\n",
    "    \n",
    "    df_train = make_df(dataset['train'])\n",
    "    df_test = make_df(dataset['test'])\n",
    "    \n",
    "    #demonstrate length of sentences\n",
    "    data_exploration(df_train,df_test)\n",
    "    \n",
    "    # re-annotate data: if relation is not causal relation, then label it as 0, vice versa.\n",
    "    df_train,df_test = split_dataset_by_causation(df_train,df_test,balance)\n",
    "    \n",
    "    #split to train, val, test dataset\n",
    "    df_train,df_val = train_test_split(df_train,test_size=0.2, random_state = seed_val)\n",
    "    \n",
    "    train_ratio = len(df_train[df_train['relation']==1]) / len(df_train)\n",
    "    print('\\nOverall, we have {} vs {} of data that contains and not contains causal relation for training data.'.format(train_ratio, 1-train_ratio))\n",
    "    \n",
    "    val_ratio = len(df_val[df_val['relation']==1]) / len(df_val)\n",
    "    print('\\nOverall, we have {} vs {} of data that contains and not contains causal relation for validation data.'.format(val_ratio, 1-val_ratio))\n",
    "    \n",
    "    test_ratio = len(df_test[df_test['relation']==1]) / len(df_test)\n",
    "    print('\\nOverall, we have {} vs {} of data that contains and not contains causal relation for test data.'.format(test_ratio, 1-test_ratio))\n",
    "    \n",
    "    #remove special tokens indicating causal relation entities' positions.\n",
    "    replace_values = {'<e1>': '', '</e1>': '', '<e2>': '', '</e2>': ''}\n",
    "    df_train_re = df_train.replace(replace_values, regex=True)\n",
    "    df_val_re = df_val.replace(replace_values, regex=True)\n",
    "    df_test_re = df_test.replace(replace_values, regex=True)\n",
    "    \n",
    "    return df_train,df_val,df_test,df_train_re,df_val_re,df_test_re"
   ]
  },
  {
   "cell_type": "code",
   "execution_count": 253,
   "metadata": {},
   "outputs": [
    {
     "name": "stderr",
     "output_type": "stream",
     "text": [
      "Using custom data configuration default\n",
      "Reusing dataset sem_eval2010_task8 (C:\\Users\\Tan\\.cache\\huggingface\\datasets\\sem_eval2010_task8\\default\\1.0.0\\8545d1995bbbade386acf5c4e2bef5589d8387ae0a93356407dfb54cdb234416)\n"
     ]
    },
    {
     "data": {
      "application/vnd.jupyter.widget-view+json": {
       "model_id": "8b54ebf226944295a8e9587f289ccc12",
       "version_major": 2,
       "version_minor": 0
      },
      "text/plain": [
       "  0%|          | 0/2 [00:00<?, ?it/s]"
      ]
     },
     "metadata": {},
     "output_type": "display_data"
    },
    {
     "name": "stdout",
     "output_type": "stream",
     "text": [
      "For training data(have not been splitted to validation set), the description of sentence length is:\n",
      "count    8000.00\n",
      "mean       17.20\n",
      "std         7.53\n",
      "min         3.00\n",
      "25%        12.00\n",
      "50%        16.00\n",
      "75%        21.00\n",
      "max        85.00\n",
      "Name: sentence_length, dtype: float64\n",
      "\n",
      "For test data, the description of sentence length is:\n",
      "count    2717.00\n",
      "mean       17.25\n",
      "std         7.50\n",
      "min         4.00\n",
      "25%        12.00\n",
      "50%        16.00\n",
      "75%        21.00\n",
      "max        60.00\n",
      "Name: sentence_length, dtype: float64\n",
      "\n",
      "Overall, we have 0.12375 vs 0.87625 of data that contains and not contains causal relation for training data.\n",
      "\n",
      "Overall, we have 0.131875 vs 0.868125 of data that contains and not contains causal relation for validation data.\n",
      "\n",
      "Overall, we have 0.12072138387927861 vs 0.8792786161207213 of data that contains and not contains causal relation for test data.\n"
     ]
    }
   ],
   "source": [
    "df_train,df_val,df_test,df_train_re,df_val_re,df_test_re = dataset_loading()"
   ]
  },
  {
   "cell_type": "code",
   "execution_count": 251,
   "metadata": {},
   "outputs": [
    {
     "name": "stderr",
     "output_type": "stream",
     "text": [
      "Using custom data configuration default\n",
      "Reusing dataset sem_eval2010_task8 (C:\\Users\\Tan\\.cache\\huggingface\\datasets\\sem_eval2010_task8\\default\\1.0.0\\8545d1995bbbade386acf5c4e2bef5589d8387ae0a93356407dfb54cdb234416)\n"
     ]
    },
    {
     "data": {
      "application/vnd.jupyter.widget-view+json": {
       "model_id": "65f5582f9e914561baef6cb75f13d8eb",
       "version_major": 2,
       "version_minor": 0
      },
      "text/plain": [
       "  0%|          | 0/2 [00:00<?, ?it/s]"
      ]
     },
     "metadata": {},
     "output_type": "display_data"
    },
    {
     "name": "stdout",
     "output_type": "stream",
     "text": [
      "For training data(have not been splitted to validation set), the description of sentence length is:\n",
      "count    8000.00\n",
      "mean       17.20\n",
      "std         7.53\n",
      "min         3.00\n",
      "25%        12.00\n",
      "50%        16.00\n",
      "75%        21.00\n",
      "max        85.00\n",
      "Name: sentence_length, dtype: float64\n",
      "\n",
      "For test data, the description of sentence length is:\n",
      "count    2717.00\n",
      "mean       17.25\n",
      "std         7.50\n",
      "min         4.00\n",
      "25%        12.00\n",
      "50%        16.00\n",
      "75%        21.00\n",
      "max        60.00\n",
      "Name: sentence_length, dtype: float64\n",
      "\n",
      "Overall, we have 0.5012468827930174 vs 0.49875311720698257 of data that contains and not contains causal relation for training data.\n",
      "\n",
      "Overall, we have 0.49502487562189057 vs 0.5049751243781094 of data that contains and not contains causal relation for validation data.\n",
      "\n",
      "Overall, we have 0.5 vs 0.5 of data that contains and not contains causal relation for test data.\n"
     ]
    }
   ],
   "source": [
    "df_train_balanced,df_val_balanced,df_test_balanced,df_train_re_balanced,df_val_re_balanced,df_test_re_balanced = dataset_loading(balance=True)"
   ]
  },
  {
   "cell_type": "markdown",
   "metadata": {},
   "source": [
    "### Experiments"
   ]
  },
  {
   "cell_type": "code",
   "execution_count": 177,
   "metadata": {},
   "outputs": [],
   "source": [
    "from collections import OrderedDict \n",
    "import itertools\n",
    "from IPython.display import clear_output\n",
    "import numpy as np\n",
    "import matplotlib.pyplot as plt\n",
    "import os\n",
    "import pprint\n",
    "from sklearn.utils import resample\n",
    "from sklearn.metrics import classification_report,confusion_matrix,f1_score\n",
    "import time\n",
    "import datetime\n",
    "import seaborn as sns\n",
    "import torch\n",
    "import tqdm\n",
    "import warnings\n",
    "from transformers import BertTokenizer,RobertaTokenizer,BertForSequenceClassification,get_linear_schedule_with_warmup,AdamW, BertConfig, RobertaForSequenceClassification\n",
    "from torch.utils.data import TensorDataset, random_split, DataLoader, RandomSampler, SequentialSampler"
   ]
  },
  {
   "cell_type": "code",
   "execution_count": 178,
   "metadata": {},
   "outputs": [
    {
     "name": "stdout",
     "output_type": "stream",
     "text": [
      "There are 1 GPU(s) available.\n",
      "We will use the GPU: GeForce RTX 2070 SUPER\n"
     ]
    }
   ],
   "source": [
    "if torch.cuda.is_available():    \n",
    "\n",
    "    # Tell PyTorch to use the GPU.    \n",
    "    device = torch.device(\"cuda\")\n",
    "\n",
    "    print('There are %d GPU(s) available.' % torch.cuda.device_count())\n",
    "\n",
    "    print('We will use the GPU:', torch.cuda.get_device_name(0))\n",
    "\n",
    "# If not...\n",
    "else:\n",
    "    print('No GPU available, using the CPU instead.')\n",
    "    device = torch.device(\"cpu\")\n",
    "    \n",
    "if str(device) == 'cuda':\n",
    "    torch.manual_seed(seed_val)\n",
    "    torch.cuda.manual_seed_all(seed_val)\n",
    "else:\n",
    "    torch.manual_seed(seed_val)"
   ]
  },
  {
   "cell_type": "code",
   "execution_count": 185,
   "metadata": {},
   "outputs": [],
   "source": [
    "def tokenize_process(df,tokenizer,max_length):\n",
    "    # Tokenize all of the sentences and map the tokens to thier word IDs.\n",
    "    input_ids = []\n",
    "    attention_masks = []\n",
    "    \n",
    "    sentences = df.X.values\n",
    "    labels = df.y.values\n",
    "    for sent in sentences:\n",
    "        # `encode_plus` will:\n",
    "        #   (1) Tokenize the sentence.\n",
    "        #   (2) Prepend the `[CLS]` token to the start.\n",
    "        #   (3) Append the `[SEP]` token to the end.\n",
    "        #   (4) Map tokens to their IDs.\n",
    "        #   (5) Pad or truncate the sentence to `max_length`\n",
    "        #   (6) Create attention masks for [PAD] tokens.\n",
    "        encoded_dict = tokenizer.encode_plus(\n",
    "                            sent,                      # Sentence to encode.\n",
    "                            add_special_tokens = True, # Add '[CLS]' and '[SEP]'\n",
    "                            max_length = max_length,   # Pad & truncate all sentences.\n",
    "                            pad_to_max_length = True,\n",
    "                            return_attention_mask = True,   # Construct attn. masks.\n",
    "                            return_tensors = 'pt',     # Return pytorch tensors.\n",
    "                       )\n",
    "        # Add the encoded sentence to the list.    \n",
    "        input_ids.append(encoded_dict['input_ids'])\n",
    "        # And its attention mask (simply differentiates padding from non-padding).\n",
    "        attention_masks.append(encoded_dict['attention_mask'])\n",
    "    \n",
    "    # Convert the lists into tensors.\n",
    "    input_ids = torch.cat(input_ids, dim=0)\n",
    "    attention_masks = torch.cat(attention_masks, dim=0)\n",
    "    labels = torch.tensor(labels)\n",
    "    # Print sentence 0, now as a list of IDs.\n",
    "    #print('Check the original paragraph and converted paragrapg: ')\n",
    "    #print('Original: ', sentences[1])\n",
    "    #print('Token IDs:', input_ids[1])\n",
    "    \n",
    "    dataset = TensorDataset(input_ids, attention_masks, labels)\n",
    "    return dataset\n",
    "\n",
    "# Function to calculate the accuracy of our predictions vs labels\n",
    "def flat_accuracy(preds, labels):\n",
    "    pred_flat = np.argmax(preds, axis=1).flatten()\n",
    "    labels_flat = labels.flatten()\n",
    "    return np.sum(pred_flat == labels_flat) / len(labels_flat)\n",
    "\n",
    "def convert_logits_tolabel(logits):\n",
    "        pred = []\n",
    "        for i in logits:\n",
    "            if i[0]> i[1]:\n",
    "                pred.append(0)\n",
    "            else:\n",
    "                pred.append(1)\n",
    "        return pred"
   ]
  },
  {
   "cell_type": "code",
   "execution_count": 186,
   "metadata": {},
   "outputs": [],
   "source": [
    "def Training_and_evaluating(model,train_dataloader,validation_dataloader,optimizer,epochs,scheduler,total_steps):\n",
    "    print('\\nTraining and evaluating the model.')\n",
    "    \n",
    "    #store a number of quantities such as training and validation loss,validation accuracy, and timings.\n",
    "    training_stats = []\n",
    "    total_t0 = time.time()\n",
    "    \n",
    "    #store prediction and true labels\n",
    "    train_logits = []\n",
    "    train_label = []\n",
    "    best_loss = 1.0\n",
    "    # For each epoch...\n",
    "    for epoch_i in range(0, epochs):\n",
    "        \n",
    "        # ========================================\n",
    "        #               Training\n",
    "        # ========================================\n",
    "        \n",
    "        # Perform one full pass over the training set.\n",
    "    \n",
    "        print(\"\")\n",
    "        print('======== Epoch {:} / {:} ========'.format(epoch_i + 1, epochs))\n",
    "        print('Training...')\n",
    "    \n",
    "        # Measure how long the training epoch takes.\n",
    "        t0 = time.time()\n",
    "        # Reset the total loss for this epoch.\n",
    "        total_train_loss = 0\n",
    "        model.train()\n",
    "        \n",
    "        # For each batch of training data...\n",
    "        for step, batch in enumerate(train_dataloader):\n",
    "    \n",
    "            # Progress update every 40 batches.\n",
    "            if step % 40 == 0 and not step == 0:\n",
    "                # Calculate elapsed time in minutes.\n",
    "                elapsed = format_time(time.time() - t0)\n",
    "                \n",
    "                # Report progress.\n",
    "                print('  Batch {:>5,}  of  {:>5,}.    Elapsed: {:}.'.format(step, len(train_dataloader), elapsed))\n",
    "    \n",
    "            # Unpack this training batch from our dataloader. \n",
    "            #\n",
    "            # As we unpack the batch, we'll also copy each tensor to the GPU using the \n",
    "            # `to` method.\n",
    "            #\n",
    "            # `batch` contains three pytorch tensors:\n",
    "            #   [0]: input ids \n",
    "            #   [1]: attention masks\n",
    "            #   [2]: labels \n",
    "            b_input_ids = batch[0].to(device)\n",
    "            b_input_mask = batch[1].to(device)\n",
    "            b_labels = batch[2].long().to(device)\n",
    "    \n",
    "            model.zero_grad()        \n",
    "            loss, logits = model(b_input_ids, \n",
    "                                 token_type_ids=None, \n",
    "                                 attention_mask=b_input_mask, \n",
    "                                 labels=b_labels)\n",
    "            \n",
    "            logits_ = logits.detach().cpu().numpy()\n",
    "            label_ids_ = b_labels.to('cpu').numpy()\n",
    "            \n",
    "            #store prediction for the last epoch\n",
    "            if epoch_i == epochs-1:\n",
    "                train_logits.extend(logits_)\n",
    "                train_label.extend(label_ids_)\n",
    "            total_train_loss += loss.item()\n",
    "    \n",
    "            # Perform a backward pass to calculate the gradients.\n",
    "            loss.backward()\n",
    "            # Clip the norm of the gradients to 1.0.\n",
    "            # This is to help prevent the \"exploding gradients\" problem.\n",
    "            torch.nn.utils.clip_grad_norm_(model.parameters(), 1.0)\n",
    "    \n",
    "            # Update parameters and take a step using the computed gradient.Update the learning rate.\n",
    "            optimizer.step()\n",
    "        \n",
    "        #Update scheduler(lr decay) every epoch\n",
    "        lr_stat_opt = optimizer.param_groups[0][\"lr\"] #or lr_stat_scheduler = scheduler.get_last_lr()[0]\n",
    "        print('current lr is:',lr_stat_opt)\n",
    "        if scheduler:\n",
    "            scheduler.step()\n",
    "        \n",
    "        #wandb.log({\"lr\": lr_stat_opt})\n",
    "    \n",
    "        # Calculate the average loss over all of the batches.\n",
    "        avg_train_loss = total_train_loss / len(train_dataloader)            \n",
    "        # Measure how long this epoch took.\n",
    "        training_time = format_time(time.time() - t0)\n",
    "    \n",
    "        print(\"\")\n",
    "        print(\"  Average training loss: {0:.2f}\".format(avg_train_loss))\n",
    "        print(\"  Training epcoh took: {:}\".format(training_time))\n",
    "            \n",
    "        # ========================================\n",
    "        #               Validation\n",
    "        # ========================================\n",
    "        # After the completion of each training epoch, measure our performance on\n",
    "        # our validation set.\n",
    "    \n",
    "        print(\"\")\n",
    "        print(\"Running Validation...\")\n",
    "        eval_pred = []\n",
    "        eval_label = []\n",
    "        t0 = time.time()\n",
    "        # Put the model in evaluation mode--the dropout layers behave differently\n",
    "        # during evaluation.\n",
    "        model.eval()\n",
    "        # Tracking variables \n",
    "        total_eval_accuracy = 0\n",
    "        total_eval_loss = 0\n",
    "        nb_eval_steps = 0\n",
    "        # Evaluate data for one epoch\n",
    "        for batch in validation_dataloader:\n",
    "            \n",
    "            # Unpack this training batch from our dataloader. \n",
    "            # As we unpack the batch, we'll also copy each tensor to the GPU using the `to` method.\n",
    "            # `batch` contains three pytorch tensors: [0]: input ids; [1]: attention masks; [2]: labels \n",
    "            b_input_ids = batch[0].to(device)\n",
    "            b_input_mask = batch[1].to(device)\n",
    "            b_labels = batch[2].long().to(device)\n",
    "            \n",
    "            # Tell pytorch not to bother with constructing the compute graph during\n",
    "            # the forward pass, since this is only needed for backprop (training).\n",
    "            with torch.no_grad():        \n",
    "                # Forward pass, calculate logit predictions.\n",
    "                # token_type_ids is the same as the \"segment ids\", which \n",
    "                # differentiates sentence 1 and 2 in 2-sentence tasks.\n",
    "                # The documentation for this `model` function is here: \n",
    "                # https://huggingface.co/transformers/v2.2.0/model_doc/bert.html#transformers.BertForSequenceClassification\n",
    "                # Get the \"logits\" output by the model. The \"logits\" are the output\n",
    "                # values prior to applying an activation function like the softmax.\n",
    "                (loss, logits) = model(b_input_ids, \n",
    "                                       token_type_ids=None, \n",
    "                                       attention_mask=b_input_mask,\n",
    "                                       labels=b_labels)\n",
    "                \n",
    "            # Accumulate the validation loss.\n",
    "            total_eval_loss += loss.item()\n",
    "            # Move logits and labels to CPU\n",
    "            logits = logits.detach().cpu().numpy()\n",
    "            label_ids = b_labels.to('cpu').numpy()\n",
    "            # Calculate the accuracy for this batch of test sentences, and\n",
    "            # accumulate it over all batches.\n",
    "            #total_eval_accuracy += flat_accuracy(logits, label_ids)\n",
    "            eval_pred.extend(logits)\n",
    "            eval_label.extend(label_ids)\n",
    "        \n",
    "\n",
    "        eval_pred = convert_logits_tolabel(eval_pred)\n",
    "        f1_val = f1_score(eval_label,eval_pred,average='macro')\n",
    "        \n",
    "        \n",
    "        # Report the final accuracy for this validation run.\n",
    "        #avg_val_accuracy = total_eval_accuracy / len(validation_dataloader)\n",
    "        print(\"  Macro F1 score: {0:.2f}\".format(f1_val))\n",
    "        # Calculate the average loss over all of the batches.\n",
    "        avg_val_loss = total_eval_loss / len(validation_dataloader)\n",
    "        # Measure how long the validation run took.\n",
    "        validation_time = format_time(time.time() - t0)\n",
    "        print(\"  Validation Loss: {0:.2f}\".format(avg_val_loss))\n",
    "        print(\"  Validation took: {:}\".format(validation_time))\n",
    "        \n",
    "        \n",
    "        #early-stopping\n",
    "        if avg_val_loss < best_loss:\n",
    "            best_loss = avg_val_loss\n",
    "            # At this point also save a snapshot of the current model\n",
    "            torch.save(model, 'my_model_best_loss.pth')\n",
    "            \n",
    "        \n",
    "        #wandb.log({\"Training Loss\": avg_train_loss, \"Valid. Loss\":avg_val_loss,\"Valid. Macro F1\":f1_val, \"epoch\": epoch_i + 1 })\n",
    "        \n",
    "        # Record all statistics from this epoch.\n",
    "        training_stats.append(\n",
    "            {\n",
    "                'epoch': epoch_i + 1,\n",
    "                'Training Loss': avg_train_loss,\n",
    "                'Valid. Loss': avg_val_loss,\n",
    "                'Valid. Macro F1.': f1_val,\n",
    "                'Training Time': training_time,\n",
    "                'Validation Time': validation_time\n",
    "            }\n",
    "        )\n",
    "    \n",
    "    print(\"\")\n",
    "    print(\"Training complete!\")\n",
    "    \n",
    "    print(\"Total training took {:} (h:mm:ss)\".format(format_time(time.time()-total_t0)))\n",
    "    \n",
    "    pd.set_option('precision', 2)\n",
    "    # Create a DataFrame from our training statistics.\n",
    "    df_stats = pd.DataFrame(data=training_stats)\n",
    "    # Use the 'epoch' as the row index.\n",
    "    df_stats = df_stats.set_index('epoch')\n",
    "    \n",
    "    # Plot the learning curve.\n",
    "    plt.plot(df_stats['Training Loss'], 'b-o', label=\"Training\")\n",
    "    plt.plot(df_stats['Valid. Loss'], 'g-o', label=\"Validation\")\n",
    "    \n",
    "    # Label the plot.\n",
    "    plt.title(\"Training & Validation Loss\")\n",
    "    plt.xlabel(\"Epoch\")\n",
    "    plt.ylabel(\"Loss\")\n",
    "    plt.legend()\n",
    "    epoch_list = [i+1 for i in range(epochs)]\n",
    "    plt.xticks(epoch_list)\n",
    "    \n",
    "    plt.show()\n",
    "    \n",
    "    \n",
    "    train_pred = convert_logits_tolabel(train_logits)\n",
    "    \n",
    "    return train_pred,eval_pred,train_label,eval_label\n",
    "\n",
    "def get_prediction(df_test,model,batch_size,max_length,model_name):\n",
    "    if model_name=='bert':\n",
    "        tokenizer = BertTokenizer.from_pretrained('bert-base-uncased')\n",
    "    elif model_name=='roberta':\n",
    "        tokenizer = RobertaTokenizer.from_pretrained('roberta-base')\n",
    "    else:\n",
    "        raise SystemExit('Invalid model_name, model could only be one of [bert, roberta] ')\n",
    "\n",
    "    test_dataset = tokenize_process(df_test,tokenizer,max_length)\n",
    "    test_dataloader = DataLoader(test_dataset,sampler = SequentialSampler(test_dataset),batch_size = batch_size)\n",
    "    \n",
    "    test_logits = []\n",
    "    test_label = []\n",
    "    model.eval()\n",
    "    \n",
    "    for batch in test_dataloader:\n",
    "        \"\"\"\n",
    "        Unpack this training batch from our dataloader.\n",
    "        `batch` contains three pytorch tensors: [0]: input ids; [1]: attention masks; [2]: labels \n",
    "        \"\"\"\n",
    "        b_input_ids = batch[0].to(device)\n",
    "        b_input_mask = batch[1].to(device)\n",
    "        b_labels = batch[2].long().to(device)\n",
    "        \n",
    "        with torch.no_grad():        \n",
    "            (loss, logits) = model(b_input_ids, \n",
    "                                   token_type_ids=None, \n",
    "                                   attention_mask=b_input_mask,\n",
    "                                   labels=b_labels)\n",
    "            \n",
    "            logits = logits.detach().cpu().numpy()\n",
    "            label_ids = b_labels.to('cpu').numpy()\n",
    "            test_logits.extend(logits)\n",
    "            test_label.extend(label_ids)\n",
    "            \n",
    "    def convert_logits_tolabel(logits):\n",
    "        pred = []\n",
    "        for i in logits:\n",
    "            if i[0]> i[1]:\n",
    "                pred.append(0)\n",
    "            else:\n",
    "                pred.append(1)\n",
    "        return pred\n",
    "    \n",
    "    test_logits = convert_logits_tolabel(test_logits)\n",
    "            \n",
    "    return test_logits,test_label"
   ]
  },
  {
   "cell_type": "code",
   "execution_count": 187,
   "metadata": {},
   "outputs": [],
   "source": [
    "def transformer_cls(df_train,df_val,\n",
    "             epochs = 10,\n",
    "             batch_size =16,\n",
    "             max_length=128,\n",
    "             model_name='roberta',\n",
    "             lr = 5e-5,\n",
    "             weight_decay = 1e-2,\n",
    "             freeze_layer_count=1,\n",
    "             scheduler_type='step',\n",
    "             decayRate=0.75):\n",
    "    \n",
    "    \n",
    "    #wandb update\n",
    "    #wandb.config.max_length = max_length\n",
    "    #wandb.config.model = model_name\n",
    "    #wandb.config.weight_decay = weight_decay\n",
    "    #wandb.config.freeze_layer_count = freeze_layer_count\n",
    "    #wandb.config.optimizer = 'AdamW'\n",
    "    #wandb.config.scheduler_type = scheduler_type\n",
    "    #wandb.config.decayRate = decayRate\n",
    "    \n",
    "    \n",
    "    print('\\n======================Doing Bert classification task======================')\n",
    "    \n",
    "    \"\"\"\n",
    "    step1: Tokenization\n",
    "    \"\"\"\n",
    "    #print('Do step1: Tokenization\\n')\n",
    "    if model_name=='bert':\n",
    "        tokenizer = BertTokenizer.from_pretrained('bert-base-uncased')\n",
    "    elif model_name=='roberta':\n",
    "        tokenizer = RobertaTokenizer.from_pretrained('roberta-base')\n",
    "    else:\n",
    "        raise SystemExit('Invalid model_name, model could only be one of [bert, roberta] ')\n",
    "    \n",
    "    train_dataset = tokenize_process(df_train,tokenizer,max_length)\n",
    "    val_dataset = tokenize_process(df_val,tokenizer,max_length)\n",
    "    \n",
    "    \"\"\"\n",
    "    step2: create dataloader for both training and eval set\n",
    "    \"\"\"\n",
    "    \n",
    "    batch_size = batch_size\n",
    "    \n",
    "    # Create the DataLoaders for our training and validation sets.\n",
    "    # We'll take training samples in random order. \n",
    "    train_dataloader = DataLoader(train_dataset,sampler = RandomSampler(train_dataset), batch_size = batch_size)\n",
    "    \n",
    "    # For validation and test the order doesn't matter, so we'll just read them sequentially.\n",
    "    validation_dataloader = DataLoader(val_dataset,sampler = SequentialSampler(val_dataset),batch_size = batch_size)\n",
    "    \n",
    "    \"\"\"\n",
    "    step3: load bert model\n",
    "    \"\"\"\n",
    "    #print('Do step3: load bert model\\n')\n",
    "    model,optimizer,scheduler,total_steps = model_and_helper(epochs,train_dataloader,model_name,freeze_layer_count,lr,weight_decay,scheduler_type,decayRate)\n",
    "    \n",
    "    \"\"\"\n",
    "    step4: Training and evaluating\n",
    "    \"\"\"\n",
    "    #print('Do step4: Training and evaluating\\n')\n",
    "    train_pred,eval_pred,train_label,eval_label = Training_and_evaluating(model,train_dataloader,validation_dataloader,optimizer,epochs,scheduler,total_steps)\n",
    "    \n",
    "    \n",
    "    return train_pred,eval_pred,train_label,eval_label"
   ]
  },
  {
   "cell_type": "code",
   "execution_count": 188,
   "metadata": {},
   "outputs": [],
   "source": [
    "def model_and_helper(epochs,train_dataloader,\n",
    "                     model_name='roberta',\n",
    "                     freeze_layer_count=1,\n",
    "                     lr = 5e-5,\n",
    "                     weight_decay = 1e-2,\n",
    "                     scheduler_type='linear',\n",
    "                     decayRate=0.75):\n",
    "    \n",
    "    if model_name == 'bert':\n",
    "        print('\\nLoading bert model.')\n",
    "        model = BertForSequenceClassification.from_pretrained(\n",
    "            \"bert-base-uncased\",  num_labels = 2,  output_attentions = False, output_hidden_states = False,  return_dict = False)\n",
    "        \n",
    "        \n",
    "    elif model_name == 'roberta':\n",
    "        model = RobertaForSequenceClassification.from_pretrained(\n",
    "            'roberta-base', num_labels = 2, output_attentions = False, output_hidden_states = False, return_dict = False)\n",
    "        \n",
    "    else:\n",
    "        raise SystemExit('Invalid model_name, model could only be one of [bert, roberta] ')\n",
    "        \n",
    "    \n",
    "    \n",
    "    # Assign GPU if you have\n",
    "    if str(device)=='cuda':\n",
    "        model.cuda()\n",
    "    else:\n",
    "        pass\n",
    "    \n",
    "    # We freeze here the embeddings of the model\n",
    "    if freeze_layer_count:\n",
    "        if model_name == 'bert':\n",
    "            for param in model.bert.embeddings.parameters():\n",
    "                param.requires_grad = False\n",
    "    \n",
    "            if freeze_layer_count != -1:\n",
    "            # if freeze_layer_count == -1, we only freeze the embedding layer\n",
    "            # otherwise we freeze the first `freeze_layer_count` encoder layers\n",
    "                for layer in model.bert.encoder.layer[:freeze_layer_count]:\n",
    "                    for param in layer.parameters():\n",
    "                        param.requires_grad = False\n",
    "                        \n",
    "        if model_name == 'roberta':\n",
    "            for param in model.roberta.embeddings.parameters():\n",
    "                param.requires_grad = False\n",
    "    \n",
    "            if freeze_layer_count != -1:\n",
    "            # if freeze_layer_count == -1, we only freeze the embedding layer\n",
    "            # otherwise we freeze the first `freeze_layer_count` encoder layers\n",
    "                for layer in model.roberta.encoder.layer[:freeze_layer_count]:\n",
    "                    for param in layer.parameters():\n",
    "                        param.requires_grad = False\n",
    "            \n",
    "        \n",
    "    \n",
    "    # Note: AdamW is a class from the huggingface library (as opposed to pytorch), the 'W' stands for 'Weight Decay fix\"\n",
    "    optimizer = AdamW(model.parameters(),\n",
    "                      lr = lr, \n",
    "                      eps = 1e-8, # args.adam_epsilon  - default is 1e-8.\n",
    "                      weight_decay = weight_decay \n",
    "                    )\n",
    "    \n",
    "    epochs = epochs\n",
    "    # Total number of training steps is [number of batches] x [number of epochs]. \n",
    "    # (Note that this is not the same as the number of training samples).\n",
    "    total_steps = len(train_dataloader) * epochs\n",
    "    \n",
    "    # set learning rate decay\n",
    "    if scheduler_type=='linear': \n",
    "        scheduler = get_linear_schedule_with_warmup(optimizer, \n",
    "                                                num_warmup_steps = 0, # Default value\n",
    "                                                num_training_steps = total_steps)\n",
    "    elif scheduler_type=='step':\n",
    "        scheduler = torch.optim.lr_scheduler.StepLR(optimizer, step_size=1, gamma=decayRate)\n",
    "        \n",
    "    elif scheduler_type=='exponential':\n",
    "        scheduler = torch.optim.lr_scheduler.ExponentialLR(optimizer=optimizer, gamma=decayRate)\n",
    "        \n",
    "    elif scheduler_type=='none':\n",
    "        scheduler = None\n",
    "    \n",
    "    else:\n",
    "        raise SystemExit('Invalid scheduler_type, it could only be one of [linear, step, exponential,none] ')\n",
    "    \n",
    "\n",
    "    return model,optimizer,scheduler,total_steps"
   ]
  },
  {
   "cell_type": "code",
   "execution_count": 189,
   "metadata": {},
   "outputs": [],
   "source": [
    "def evaluate_result(train_pred,train_label,eval_pred,eval_label,test_pred,test_true,args):\n",
    "    \n",
    "    training_pred,training_true,evaluation_pred,evaluation_true = [],[],[],[]\n",
    "    \n",
    "    training_pred.append(train_pred)\n",
    "    training_true.append(train_label)\n",
    "    evaluation_pred.append(eval_pred)\n",
    "    evaluation_true.append(eval_label)\n",
    "    \n",
    "    def flatten(t):\n",
    "        return [item for sublist in t for item in sublist]\n",
    "    \n",
    "    evaluation_true = flatten(evaluation_true)\n",
    "    evaluation_pred = flatten(evaluation_pred)\n",
    "    training_true = flatten(training_true)\n",
    "    training_pred = flatten(training_pred)\n",
    "    \n",
    "    \n",
    "    f1_train = f1_score(training_true, training_pred,average='macro')\n",
    "    f1_val = f1_score(evaluation_true, evaluation_pred,average='macro')\n",
    "    f1_test = f1_score(test_true,test_pred,average='macro')\n",
    "    \n",
    "    print({\"f1_train\": f1_train,\"f1_val\": f1_val, \"f1_test\": f1_test})\n",
    "    #wandb.log({\"f1_train\": f1_train,\"f1_val\": f1_val, \"f1_test\": f1_test})\n",
    "\n",
    "    print('\\nargs:',args)\n",
    "    target_names = ['class 0', 'class 1']\n",
    "    #For evaluation data\n",
    "    print('classification report on test set is:\\n')\n",
    "    clas_reprt_eval = classification_report(test_true, test_pred, target_names=target_names)\n",
    "    print(clas_reprt_eval)\n",
    "    \n",
    "    print('confusion matrix on test set is:\\n')\n",
    "    cm_eval = confusion_matrix(test_true, test_pred)\n",
    "    plot_confusion_matrix(cm_eval, ['No causal relation', 'Has causal relation'], normalize=False)\n",
    "    \n",
    "    return "
   ]
  },
  {
   "cell_type": "code",
   "execution_count": 232,
   "metadata": {},
   "outputs": [],
   "source": [
    "def do_cls(df_train, df_val, df_test, args):\n",
    "    \n",
    "    df_train.rename(columns={\"sentence\": \"X\", \"relation\": \"y\"},inplace=True)\n",
    "    df_val.rename(columns={\"sentence\": \"X\", \"relation\": \"y\"},inplace=True)\n",
    "    df_test.rename(columns={\"sentence\": \"X\", \"relation\": \"y\"},inplace=True)\n",
    "    \n",
    "    train_pred,eval_pred,train_label,eval_label = transformer_cls(df_train,df_val,\n",
    "                                                                          epochs = args['epochs'],\n",
    "                                                                          batch_size =args['batch_size'],\n",
    "                                                                          max_length=args['max_length'],\n",
    "                                                                          model_name=args['model_name'],\n",
    "                                                                          lr = args['lr'],\n",
    "                                                                          weight_decay = args['weight_decay'],\n",
    "                                                                          freeze_layer_count=args['freeze_layer_count'],\n",
    "                                                                          scheduler_type=args['scheduler_type'],\n",
    "                                                                          decayRate=args['decayRate'])\n",
    "    \n",
    "    #load best model\n",
    "    model = torch.load('my_model_best_loss.pth')\n",
    "    model.eval()\n",
    "    \n",
    "    test_pred,test_true = get_prediction(df_test,model,batch_size=args['batch_size'],max_length=args['max_length'],model_name=args['model_name'])\n",
    "    \n",
    "    # generate confusion matrix and classification report\n",
    "    evaluate_result(train_pred,train_label,eval_pred,eval_label,test_pred,test_true,args)\n",
    "\n",
    "    \n",
    "    del model\n",
    "    torch.cuda.empty_cache()\n",
    "    \n",
    "    #clear output if you want\n",
    "    #clear_output(wait=True)\n",
    "    return test_pred,test_true,df_test\n"
   ]
  },
  {
   "cell_type": "code",
   "execution_count": 229,
   "metadata": {},
   "outputs": [],
   "source": [
    "best_args = {\n",
    "    'epochs': 6,\n",
    "    'batch_size': 20,\n",
    "    'max_length': 60,\n",
    "    'model_name': 'bert',\n",
    "    'lr': 5e-05,\n",
    "    'weight_decay': 0.05,\n",
    "     'freeze_layer_count':0,\n",
    "    'scheduler_type': 'none',\n",
    "    'decayRate': 0.75\n",
    "    }"
   ]
  },
  {
   "cell_type": "markdown",
   "metadata": {},
   "source": [
    "### The whole dataset \n",
    "(8000 training data, 2717 test data)\n"
   ]
  },
  {
   "cell_type": "code",
   "execution_count": 265,
   "metadata": {
    "scrolled": true
   },
   "outputs": [
    {
     "name": "stdout",
     "output_type": "stream",
     "text": [
      "\n",
      "======================Doing Bert classification task======================\n"
     ]
    },
    {
     "name": "stderr",
     "output_type": "stream",
     "text": [
      "Truncation was not explicitly activated but `max_length` is provided a specific value, please use `truncation=True` to explicitly truncate examples to max length. Defaulting to 'longest_first' truncation strategy. If you encode pairs of sequences (GLUE-style) with the tokenizer you can select this strategy more precisely by providing a specific strategy to `truncation`.\n"
     ]
    },
    {
     "name": "stdout",
     "output_type": "stream",
     "text": [
      "\n",
      "Loading bert model.\n"
     ]
    },
    {
     "name": "stderr",
     "output_type": "stream",
     "text": [
      "Some weights of the model checkpoint at bert-base-uncased were not used when initializing BertForSequenceClassification: ['cls.predictions.decoder.weight', 'cls.predictions.transform.dense.weight', 'cls.predictions.transform.LayerNorm.weight', 'cls.seq_relationship.weight', 'cls.predictions.transform.LayerNorm.bias', 'cls.seq_relationship.bias', 'cls.predictions.bias', 'cls.predictions.transform.dense.bias']\n",
      "- This IS expected if you are initializing BertForSequenceClassification from the checkpoint of a model trained on another task or with another architecture (e.g. initializing a BertForSequenceClassification model from a BertForPreTraining model).\n",
      "- This IS NOT expected if you are initializing BertForSequenceClassification from the checkpoint of a model that you expect to be exactly identical (initializing a BertForSequenceClassification model from a BertForSequenceClassification model).\n",
      "Some weights of BertForSequenceClassification were not initialized from the model checkpoint at bert-base-uncased and are newly initialized: ['classifier.weight', 'classifier.bias']\n",
      "You should probably TRAIN this model on a down-stream task to be able to use it for predictions and inference.\n"
     ]
    },
    {
     "name": "stdout",
     "output_type": "stream",
     "text": [
      "\n",
      "Training and evaluating the model.\n",
      "\n",
      "======== Epoch 1 / 6 ========\n",
      "Training...\n",
      "  Batch    40  of    320.    Elapsed: 0:00:06.\n",
      "  Batch    80  of    320.    Elapsed: 0:00:11.\n",
      "  Batch   120  of    320.    Elapsed: 0:00:17.\n",
      "  Batch   160  of    320.    Elapsed: 0:00:22.\n",
      "  Batch   200  of    320.    Elapsed: 0:00:27.\n",
      "  Batch   240  of    320.    Elapsed: 0:00:33.\n",
      "  Batch   280  of    320.    Elapsed: 0:00:38.\n",
      "current lr is: 5e-05\n",
      "\n",
      "  Average training loss: 0.17\n",
      "  Training epcoh took: 0:00:44\n",
      "\n",
      "Running Validation...\n",
      "  Macro F1 score: 0.93\n",
      "  Validation Loss: 0.10\n",
      "  Validation took: 0:00:03\n",
      "\n",
      "======== Epoch 2 / 6 ========\n",
      "Training...\n",
      "  Batch    40  of    320.    Elapsed: 0:00:06.\n",
      "  Batch    80  of    320.    Elapsed: 0:00:11.\n",
      "  Batch   120  of    320.    Elapsed: 0:00:17.\n",
      "  Batch   160  of    320.    Elapsed: 0:00:23.\n",
      "  Batch   200  of    320.    Elapsed: 0:00:29.\n",
      "  Batch   240  of    320.    Elapsed: 0:00:34.\n",
      "  Batch   280  of    320.    Elapsed: 0:00:40.\n",
      "current lr is: 5e-05\n",
      "\n",
      "  Average training loss: 0.08\n",
      "  Training epcoh took: 0:00:46\n",
      "\n",
      "Running Validation...\n",
      "  Macro F1 score: 0.92\n",
      "  Validation Loss: 0.13\n",
      "  Validation took: 0:00:03\n",
      "\n",
      "======== Epoch 3 / 6 ========\n",
      "Training...\n",
      "  Batch    40  of    320.    Elapsed: 0:00:06.\n",
      "  Batch    80  of    320.    Elapsed: 0:00:11.\n",
      "  Batch   120  of    320.    Elapsed: 0:00:17.\n",
      "  Batch   160  of    320.    Elapsed: 0:00:22.\n",
      "  Batch   200  of    320.    Elapsed: 0:00:28.\n",
      "  Batch   240  of    320.    Elapsed: 0:00:33.\n",
      "  Batch   280  of    320.    Elapsed: 0:00:39.\n",
      "current lr is: 5e-05\n",
      "\n",
      "  Average training loss: 0.04\n",
      "  Training epcoh took: 0:00:44\n",
      "\n",
      "Running Validation...\n",
      "  Macro F1 score: 0.93\n",
      "  Validation Loss: 0.13\n",
      "  Validation took: 0:00:03\n",
      "\n",
      "======== Epoch 4 / 6 ========\n",
      "Training...\n",
      "  Batch    40  of    320.    Elapsed: 0:00:05.\n",
      "  Batch    80  of    320.    Elapsed: 0:00:11.\n",
      "  Batch   120  of    320.    Elapsed: 0:00:16.\n",
      "  Batch   160  of    320.    Elapsed: 0:00:22.\n",
      "  Batch   200  of    320.    Elapsed: 0:00:27.\n",
      "  Batch   240  of    320.    Elapsed: 0:00:33.\n",
      "  Batch   280  of    320.    Elapsed: 0:00:39.\n",
      "current lr is: 5e-05\n",
      "\n",
      "  Average training loss: 0.02\n",
      "  Training epcoh took: 0:00:44\n",
      "\n",
      "Running Validation...\n",
      "  Macro F1 score: 0.94\n",
      "  Validation Loss: 0.14\n",
      "  Validation took: 0:00:03\n",
      "\n",
      "======== Epoch 5 / 6 ========\n",
      "Training...\n",
      "  Batch    40  of    320.    Elapsed: 0:00:05.\n",
      "  Batch    80  of    320.    Elapsed: 0:00:11.\n",
      "  Batch   120  of    320.    Elapsed: 0:00:17.\n",
      "  Batch   160  of    320.    Elapsed: 0:00:22.\n",
      "  Batch   200  of    320.    Elapsed: 0:00:28.\n",
      "  Batch   240  of    320.    Elapsed: 0:00:33.\n",
      "  Batch   280  of    320.    Elapsed: 0:00:39.\n",
      "current lr is: 5e-05\n",
      "\n",
      "  Average training loss: 0.01\n",
      "  Training epcoh took: 0:00:44\n",
      "\n",
      "Running Validation...\n",
      "  Macro F1 score: 0.91\n",
      "  Validation Loss: 0.25\n",
      "  Validation took: 0:00:03\n",
      "\n",
      "======== Epoch 6 / 6 ========\n",
      "Training...\n",
      "  Batch    40  of    320.    Elapsed: 0:00:06.\n",
      "  Batch    80  of    320.    Elapsed: 0:00:11.\n",
      "  Batch   120  of    320.    Elapsed: 0:00:17.\n",
      "  Batch   160  of    320.    Elapsed: 0:00:22.\n",
      "  Batch   200  of    320.    Elapsed: 0:00:28.\n",
      "  Batch   240  of    320.    Elapsed: 0:00:33.\n",
      "  Batch   280  of    320.    Elapsed: 0:00:39.\n",
      "current lr is: 5e-05\n",
      "\n",
      "  Average training loss: 0.01\n",
      "  Training epcoh took: 0:00:44\n",
      "\n",
      "Running Validation...\n",
      "  Macro F1 score: 0.95\n",
      "  Validation Loss: 0.19\n",
      "  Validation took: 0:00:03\n",
      "\n",
      "Training complete!\n",
      "Total training took 0:04:45 (h:mm:ss)\n"
     ]
    },
    {
     "data": {
      "image/png": "[encoded data removed]",
      "text/plain": [
       "<Figure size 432x288 with 1 Axes>"
      ]
     },
     "metadata": {
      "needs_background": "light"
     },
     "output_type": "display_data"
    },
    {
     "name": "stderr",
     "output_type": "stream",
     "text": [
      "Truncation was not explicitly activated but `max_length` is provided a specific value, please use `truncation=True` to explicitly truncate examples to max length. Defaulting to 'longest_first' truncation strategy. If you encode pairs of sequences (GLUE-style) with the tokenizer you can select this strategy more precisely by providing a specific strategy to `truncation`.\n"
     ]
    },
    {
     "name": "stdout",
     "output_type": "stream",
     "text": [
      "{'f1_train': 0.9935087166890668, 'f1_val': 0.9451867077766358, 'f1_test': 0.9419350029815146}\n",
      "\n",
      "args: {'epochs': 6, 'batch_size': 20, 'max_length': 60, 'model_name': 'bert', 'lr': 5e-05, 'weight_decay': 0.05, 'freeze_layer_count': 0, 'scheduler_type': 'none', 'decayRate': 0.75}\n",
      "classification report on test set is:\n",
      "\n",
      "              precision    recall  f1-score   support\n",
      "\n",
      "     class 0       0.90      0.99      0.94       328\n",
      "     class 1       0.99      0.89      0.94       328\n",
      "\n",
      "    accuracy                           0.94       656\n",
      "   macro avg       0.95      0.94      0.94       656\n",
      "weighted avg       0.95      0.94      0.94       656\n",
      "\n",
      "confusion matrix on test set is:\n",
      "\n"
     ]
    },
    {
     "data": {
      "image/png": "[encoded data removed]",
      "text/plain": [
       "<Figure size 576x432 with 2 Axes>"
      ]
     },
     "metadata": {
      "needs_background": "light"
     },
     "output_type": "display_data"
    }
   ],
   "source": [
    "test_pred,test_true,df_test = do_cls(df_train, df_val, df_test,best_args)"
   ]
  },
  {
   "cell_type": "code",
   "execution_count": 266,
   "metadata": {},
   "outputs": [
    {
     "name": "stdout",
     "output_type": "stream",
     "text": [
      "\n",
      "======================Doing Bert classification task======================\n"
     ]
    },
    {
     "name": "stderr",
     "output_type": "stream",
     "text": [
      "Truncation was not explicitly activated but `max_length` is provided a specific value, please use `truncation=True` to explicitly truncate examples to max length. Defaulting to 'longest_first' truncation strategy. If you encode pairs of sequences (GLUE-style) with the tokenizer you can select this strategy more precisely by providing a specific strategy to `truncation`.\n"
     ]
    },
    {
     "name": "stdout",
     "output_type": "stream",
     "text": [
      "\n",
      "Loading bert model.\n"
     ]
    },
    {
     "name": "stderr",
     "output_type": "stream",
     "text": [
      "Some weights of the model checkpoint at bert-base-uncased were not used when initializing BertForSequenceClassification: ['cls.predictions.decoder.weight', 'cls.predictions.transform.dense.weight', 'cls.predictions.transform.LayerNorm.weight', 'cls.seq_relationship.weight', 'cls.predictions.transform.LayerNorm.bias', 'cls.seq_relationship.bias', 'cls.predictions.bias', 'cls.predictions.transform.dense.bias']\n",
      "- This IS expected if you are initializing BertForSequenceClassification from the checkpoint of a model trained on another task or with another architecture (e.g. initializing a BertForSequenceClassification model from a BertForPreTraining model).\n",
      "- This IS NOT expected if you are initializing BertForSequenceClassification from the checkpoint of a model that you expect to be exactly identical (initializing a BertForSequenceClassification model from a BertForSequenceClassification model).\n",
      "Some weights of BertForSequenceClassification were not initialized from the model checkpoint at bert-base-uncased and are newly initialized: ['classifier.weight', 'classifier.bias']\n",
      "You should probably TRAIN this model on a down-stream task to be able to use it for predictions and inference.\n"
     ]
    },
    {
     "name": "stdout",
     "output_type": "stream",
     "text": [
      "\n",
      "Training and evaluating the model.\n",
      "\n",
      "======== Epoch 1 / 6 ========\n",
      "Training...\n",
      "  Batch    40  of    320.    Elapsed: 0:00:06.\n",
      "  Batch    80  of    320.    Elapsed: 0:00:11.\n",
      "  Batch   120  of    320.    Elapsed: 0:00:17.\n",
      "  Batch   160  of    320.    Elapsed: 0:00:23.\n",
      "  Batch   200  of    320.    Elapsed: 0:00:28.\n",
      "  Batch   240  of    320.    Elapsed: 0:00:34.\n",
      "  Batch   280  of    320.    Elapsed: 0:00:40.\n",
      "current lr is: 5e-05\n",
      "\n",
      "  Average training loss: 0.17\n",
      "  Training epcoh took: 0:00:45\n",
      "\n",
      "Running Validation...\n",
      "  Macro F1 score: 0.91\n",
      "  Validation Loss: 0.14\n",
      "  Validation took: 0:00:03\n",
      "\n",
      "======== Epoch 2 / 6 ========\n",
      "Training...\n",
      "  Batch    40  of    320.    Elapsed: 0:00:05.\n",
      "  Batch    80  of    320.    Elapsed: 0:00:11.\n",
      "  Batch   120  of    320.    Elapsed: 0:00:16.\n",
      "  Batch   160  of    320.    Elapsed: 0:00:22.\n",
      "  Batch   200  of    320.    Elapsed: 0:00:27.\n",
      "  Batch   240  of    320.    Elapsed: 0:00:33.\n",
      "  Batch   280  of    320.    Elapsed: 0:00:39.\n",
      "current lr is: 5e-05\n",
      "\n",
      "  Average training loss: 0.07\n",
      "  Training epcoh took: 0:00:44\n",
      "\n",
      "Running Validation...\n",
      "  Macro F1 score: 0.93\n",
      "  Validation Loss: 0.14\n",
      "  Validation took: 0:00:03\n",
      "\n",
      "======== Epoch 3 / 6 ========\n",
      "Training...\n",
      "  Batch    40  of    320.    Elapsed: 0:00:05.\n",
      "  Batch    80  of    320.    Elapsed: 0:00:11.\n",
      "  Batch   120  of    320.    Elapsed: 0:00:16.\n",
      "  Batch   160  of    320.    Elapsed: 0:00:22.\n",
      "  Batch   200  of    320.    Elapsed: 0:00:27.\n",
      "  Batch   240  of    320.    Elapsed: 0:00:33.\n",
      "  Batch   280  of    320.    Elapsed: 0:00:38.\n",
      "current lr is: 5e-05\n",
      "\n",
      "  Average training loss: 0.04\n",
      "  Training epcoh took: 0:00:44\n",
      "\n",
      "Running Validation...\n",
      "  Macro F1 score: 0.92\n",
      "  Validation Loss: 0.17\n",
      "  Validation took: 0:00:03\n",
      "\n",
      "======== Epoch 4 / 6 ========\n",
      "Training...\n",
      "  Batch    40  of    320.    Elapsed: 0:00:05.\n",
      "  Batch    80  of    320.    Elapsed: 0:00:11.\n",
      "  Batch   120  of    320.    Elapsed: 0:00:16.\n",
      "  Batch   160  of    320.    Elapsed: 0:00:22.\n",
      "  Batch   200  of    320.    Elapsed: 0:00:27.\n",
      "  Batch   240  of    320.    Elapsed: 0:00:33.\n",
      "  Batch   280  of    320.    Elapsed: 0:00:38.\n",
      "current lr is: 5e-05\n",
      "\n",
      "  Average training loss: 0.01\n",
      "  Training epcoh took: 0:00:44\n",
      "\n",
      "Running Validation...\n",
      "  Macro F1 score: 0.92\n",
      "  Validation Loss: 0.21\n",
      "  Validation took: 0:00:03\n",
      "\n",
      "======== Epoch 5 / 6 ========\n",
      "Training...\n",
      "  Batch    40  of    320.    Elapsed: 0:00:05.\n",
      "  Batch    80  of    320.    Elapsed: 0:00:11.\n",
      "  Batch   120  of    320.    Elapsed: 0:00:16.\n",
      "  Batch   160  of    320.    Elapsed: 0:00:22.\n",
      "  Batch   200  of    320.    Elapsed: 0:00:27.\n",
      "  Batch   240  of    320.    Elapsed: 0:00:33.\n",
      "  Batch   280  of    320.    Elapsed: 0:00:38.\n",
      "current lr is: 5e-05\n",
      "\n",
      "  Average training loss: 0.01\n",
      "  Training epcoh took: 0:00:44\n",
      "\n",
      "Running Validation...\n",
      "  Macro F1 score: 0.91\n",
      "  Validation Loss: 0.24\n",
      "  Validation took: 0:00:03\n",
      "\n",
      "======== Epoch 6 / 6 ========\n",
      "Training...\n",
      "  Batch    40  of    320.    Elapsed: 0:00:05.\n",
      "  Batch    80  of    320.    Elapsed: 0:00:11.\n",
      "  Batch   120  of    320.    Elapsed: 0:00:17.\n",
      "  Batch   160  of    320.    Elapsed: 0:00:23.\n",
      "  Batch   200  of    320.    Elapsed: 0:00:28.\n",
      "  Batch   240  of    320.    Elapsed: 0:00:34.\n",
      "  Batch   280  of    320.    Elapsed: 0:00:39.\n",
      "current lr is: 5e-05\n",
      "\n",
      "  Average training loss: 0.01\n",
      "  Training epcoh took: 0:00:45\n",
      "\n",
      "Running Validation...\n",
      "  Macro F1 score: 0.92\n",
      "  Validation Loss: 0.24\n",
      "  Validation took: 0:00:03\n",
      "\n",
      "Training complete!\n",
      "Total training took 0:04:45 (h:mm:ss)\n"
     ]
    },
    {
     "data": {
      "image/png": "[encoded data removed]",
      "text/plain": [
       "<Figure size 432x288 with 1 Axes>"
      ]
     },
     "metadata": {
      "needs_background": "light"
     },
     "output_type": "display_data"
    },
    {
     "name": "stderr",
     "output_type": "stream",
     "text": [
      "Truncation was not explicitly activated but `max_length` is provided a specific value, please use `truncation=True` to explicitly truncate examples to max length. Defaulting to 'longest_first' truncation strategy. If you encode pairs of sequences (GLUE-style) with the tokenizer you can select this strategy more precisely by providing a specific strategy to `truncation`.\n"
     ]
    },
    {
     "name": "stdout",
     "output_type": "stream",
     "text": [
      "{'f1_train': 0.9949730418146422, 'f1_val': 0.9194771957933434, 'f1_test': 0.943529309510853}\n",
      "\n",
      "args: {'epochs': 6, 'batch_size': 20, 'max_length': 60, 'model_name': 'bert', 'lr': 5e-05, 'weight_decay': 0.05, 'freeze_layer_count': 0, 'scheduler_type': 'none', 'decayRate': 0.75}\n",
      "classification report on test set is:\n",
      "\n",
      "              precision    recall  f1-score   support\n",
      "\n",
      "     class 0       0.99      0.98      0.99      2389\n",
      "     class 1       0.89      0.91      0.90       328\n",
      "\n",
      "    accuracy                           0.98      2717\n",
      "   macro avg       0.94      0.95      0.94      2717\n",
      "weighted avg       0.98      0.98      0.98      2717\n",
      "\n",
      "confusion matrix on test set is:\n",
      "\n"
     ]
    },
    {
     "data": {
      "image/png": "[encoded data removed]",
      "text/plain": [
       "<Figure size 576x432 with 2 Axes>"
      ]
     },
     "metadata": {
      "needs_background": "light"
     },
     "output_type": "display_data"
    }
   ],
   "source": [
    "test_pred,test_true,df_test = do_cls(df_train_re,df_val_re,df_test_re,best_args)"
   ]
  },
  {
   "cell_type": "markdown",
   "metadata": {},
   "source": [
    "### balanced dataset\n",
    "(2006 training data, 656 test data)"
   ]
  },
  {
   "cell_type": "code",
   "execution_count": 263,
   "metadata": {
    "scrolled": true
   },
   "outputs": [
    {
     "name": "stdout",
     "output_type": "stream",
     "text": [
      "\n",
      "======================Doing Bert classification task======================\n"
     ]
    },
    {
     "name": "stderr",
     "output_type": "stream",
     "text": [
      "Truncation was not explicitly activated but `max_length` is provided a specific value, please use `truncation=True` to explicitly truncate examples to max length. Defaulting to 'longest_first' truncation strategy. If you encode pairs of sequences (GLUE-style) with the tokenizer you can select this strategy more precisely by providing a specific strategy to `truncation`.\n"
     ]
    },
    {
     "name": "stdout",
     "output_type": "stream",
     "text": [
      "\n",
      "Loading bert model.\n"
     ]
    },
    {
     "name": "stderr",
     "output_type": "stream",
     "text": [
      "Some weights of the model checkpoint at bert-base-uncased were not used when initializing BertForSequenceClassification: ['cls.predictions.decoder.weight', 'cls.predictions.transform.dense.weight', 'cls.predictions.transform.LayerNorm.weight', 'cls.seq_relationship.weight', 'cls.predictions.transform.LayerNorm.bias', 'cls.seq_relationship.bias', 'cls.predictions.bias', 'cls.predictions.transform.dense.bias']\n",
      "- This IS expected if you are initializing BertForSequenceClassification from the checkpoint of a model trained on another task or with another architecture (e.g. initializing a BertForSequenceClassification model from a BertForPreTraining model).\n",
      "- This IS NOT expected if you are initializing BertForSequenceClassification from the checkpoint of a model that you expect to be exactly identical (initializing a BertForSequenceClassification model from a BertForSequenceClassification model).\n",
      "Some weights of BertForSequenceClassification were not initialized from the model checkpoint at bert-base-uncased and are newly initialized: ['classifier.weight', 'classifier.bias']\n",
      "You should probably TRAIN this model on a down-stream task to be able to use it for predictions and inference.\n"
     ]
    },
    {
     "name": "stdout",
     "output_type": "stream",
     "text": [
      "\n",
      "Training and evaluating the model.\n",
      "\n",
      "======== Epoch 1 / 6 ========\n",
      "Training...\n",
      "  Batch    40  of     81.    Elapsed: 0:00:06.\n",
      "  Batch    80  of     81.    Elapsed: 0:00:11.\n",
      "current lr is: 5e-05\n",
      "\n",
      "  Average training loss: 0.30\n",
      "  Training epcoh took: 0:00:11\n",
      "\n",
      "Running Validation...\n",
      "  Macro F1 score: 0.96\n",
      "  Validation Loss: 0.16\n",
      "  Validation took: 0:00:01\n",
      "\n",
      "======== Epoch 2 / 6 ========\n",
      "Training...\n",
      "  Batch    40  of     81.    Elapsed: 0:00:05.\n",
      "  Batch    80  of     81.    Elapsed: 0:00:11.\n",
      "current lr is: 5e-05\n",
      "\n",
      "  Average training loss: 0.10\n",
      "  Training epcoh took: 0:00:11\n",
      "\n",
      "Running Validation...\n",
      "  Macro F1 score: 0.96\n",
      "  Validation Loss: 0.16\n",
      "  Validation took: 0:00:01\n",
      "\n",
      "======== Epoch 3 / 6 ========\n",
      "Training...\n",
      "  Batch    40  of     81.    Elapsed: 0:00:06.\n",
      "  Batch    80  of     81.    Elapsed: 0:00:11.\n",
      "current lr is: 5e-05\n",
      "\n",
      "  Average training loss: 0.05\n",
      "  Training epcoh took: 0:00:11\n",
      "\n",
      "Running Validation...\n",
      "  Macro F1 score: 0.95\n",
      "  Validation Loss: 0.18\n",
      "  Validation took: 0:00:01\n",
      "\n",
      "======== Epoch 4 / 6 ========\n",
      "Training...\n",
      "  Batch    40  of     81.    Elapsed: 0:00:06.\n",
      "  Batch    80  of     81.    Elapsed: 0:00:11.\n",
      "current lr is: 5e-05\n",
      "\n",
      "  Average training loss: 0.03\n",
      "  Training epcoh took: 0:00:11\n",
      "\n",
      "Running Validation...\n",
      "  Macro F1 score: 0.97\n",
      "  Validation Loss: 0.19\n",
      "  Validation took: 0:00:01\n",
      "\n",
      "======== Epoch 5 / 6 ========\n",
      "Training...\n",
      "  Batch    40  of     81.    Elapsed: 0:00:06.\n",
      "  Batch    80  of     81.    Elapsed: 0:00:11.\n",
      "current lr is: 5e-05\n",
      "\n",
      "  Average training loss: 0.03\n",
      "  Training epcoh took: 0:00:11\n",
      "\n",
      "Running Validation...\n",
      "  Macro F1 score: 0.95\n",
      "  Validation Loss: 0.24\n",
      "  Validation took: 0:00:01\n",
      "\n",
      "======== Epoch 6 / 6 ========\n",
      "Training...\n",
      "  Batch    40  of     81.    Elapsed: 0:00:06.\n",
      "  Batch    80  of     81.    Elapsed: 0:00:11.\n",
      "current lr is: 5e-05\n",
      "\n",
      "  Average training loss: 0.02\n",
      "  Training epcoh took: 0:00:11\n",
      "\n",
      "Running Validation...\n",
      "  Macro F1 score: 0.96\n",
      "  Validation Loss: 0.28\n",
      "  Validation took: 0:00:01\n",
      "\n",
      "Training complete!\n",
      "Total training took 0:01:12 (h:mm:ss)\n"
     ]
    },
    {
     "data": {
      "image/png": "[encoded data removed]",
      "text/plain": [
       "<Figure size 432x288 with 1 Axes>"
      ]
     },
     "metadata": {
      "needs_background": "light"
     },
     "output_type": "display_data"
    },
    {
     "name": "stderr",
     "output_type": "stream",
     "text": [
      "Truncation was not explicitly activated but `max_length` is provided a specific value, please use `truncation=True` to explicitly truncate examples to max length. Defaulting to 'longest_first' truncation strategy. If you encode pairs of sequences (GLUE-style) with the tokenizer you can select this strategy more precisely by providing a specific strategy to `truncation`.\n"
     ]
    },
    {
     "name": "stdout",
     "output_type": "stream",
     "text": [
      "{'f1_train': 0.996259328358209, 'f1_val': 0.9576986165702084, 'f1_test': 0.9588367763841343}\n",
      "\n",
      "args: {'epochs': 6, 'batch_size': 20, 'max_length': 60, 'model_name': 'bert', 'lr': 5e-05, 'weight_decay': 0.05, 'freeze_layer_count': 0, 'scheduler_type': 'none', 'decayRate': 0.75}\n",
      "classification report on test set is:\n",
      "\n",
      "              precision    recall  f1-score   support\n",
      "\n",
      "     class 0       0.97      0.95      0.96       328\n",
      "     class 1       0.95      0.97      0.96       328\n",
      "\n",
      "    accuracy                           0.96       656\n",
      "   macro avg       0.96      0.96      0.96       656\n",
      "weighted avg       0.96      0.96      0.96       656\n",
      "\n",
      "confusion matrix on test set is:\n",
      "\n"
     ]
    },
    {
     "data": {
      "image/png": "[encoded data removed]",
      "text/plain": [
       "<Figure size 576x432 with 2 Axes>"
      ]
     },
     "metadata": {
      "needs_background": "light"
     },
     "output_type": "display_data"
    }
   ],
   "source": [
    "#kept the special token version\n",
    "test_pred,test_true,df_test = do_cls(df_train_balanced,df_val_balanced,df_test_balanced,best_args)"
   ]
  },
  {
   "cell_type": "code",
   "execution_count": 252,
   "metadata": {},
   "outputs": [
    {
     "name": "stdout",
     "output_type": "stream",
     "text": [
      "\n",
      "======================Doing Bert classification task======================\n"
     ]
    },
    {
     "name": "stderr",
     "output_type": "stream",
     "text": [
      "Truncation was not explicitly activated but `max_length` is provided a specific value, please use `truncation=True` to explicitly truncate examples to max length. Defaulting to 'longest_first' truncation strategy. If you encode pairs of sequences (GLUE-style) with the tokenizer you can select this strategy more precisely by providing a specific strategy to `truncation`.\n"
     ]
    },
    {
     "name": "stdout",
     "output_type": "stream",
     "text": [
      "\n",
      "Loading bert model.\n"
     ]
    },
    {
     "name": "stderr",
     "output_type": "stream",
     "text": [
      "Some weights of the model checkpoint at bert-base-uncased were not used when initializing BertForSequenceClassification: ['cls.predictions.decoder.weight', 'cls.predictions.transform.dense.weight', 'cls.predictions.transform.LayerNorm.weight', 'cls.seq_relationship.weight', 'cls.predictions.transform.LayerNorm.bias', 'cls.seq_relationship.bias', 'cls.predictions.bias', 'cls.predictions.transform.dense.bias']\n",
      "- This IS expected if you are initializing BertForSequenceClassification from the checkpoint of a model trained on another task or with another architecture (e.g. initializing a BertForSequenceClassification model from a BertForPreTraining model).\n",
      "- This IS NOT expected if you are initializing BertForSequenceClassification from the checkpoint of a model that you expect to be exactly identical (initializing a BertForSequenceClassification model from a BertForSequenceClassification model).\n",
      "Some weights of BertForSequenceClassification were not initialized from the model checkpoint at bert-base-uncased and are newly initialized: ['classifier.weight', 'classifier.bias']\n",
      "You should probably TRAIN this model on a down-stream task to be able to use it for predictions and inference.\n"
     ]
    },
    {
     "name": "stdout",
     "output_type": "stream",
     "text": [
      "\n",
      "Training and evaluating the model.\n",
      "\n",
      "======== Epoch 1 / 6 ========\n",
      "Training...\n",
      "  Batch    40  of     81.    Elapsed: 0:00:06.\n",
      "  Batch    80  of     81.    Elapsed: 0:00:11.\n",
      "current lr is: 5e-05\n",
      "\n",
      "  Average training loss: 0.37\n",
      "  Training epcoh took: 0:00:11\n",
      "\n",
      "Running Validation...\n",
      "  Macro F1 score: 0.92\n",
      "  Validation Loss: 0.22\n",
      "  Validation took: 0:00:01\n",
      "\n",
      "======== Epoch 2 / 6 ========\n",
      "Training...\n",
      "  Batch    40  of     81.    Elapsed: 0:00:05.\n",
      "  Batch    80  of     81.    Elapsed: 0:00:11.\n",
      "current lr is: 5e-05\n",
      "\n",
      "  Average training loss: 0.13\n",
      "  Training epcoh took: 0:00:11\n",
      "\n",
      "Running Validation...\n",
      "  Macro F1 score: 0.94\n",
      "  Validation Loss: 0.22\n",
      "  Validation took: 0:00:01\n",
      "\n",
      "======== Epoch 3 / 6 ========\n",
      "Training...\n",
      "  Batch    40  of     81.    Elapsed: 0:00:05.\n",
      "  Batch    80  of     81.    Elapsed: 0:00:11.\n",
      "current lr is: 5e-05\n",
      "\n",
      "  Average training loss: 0.04\n",
      "  Training epcoh took: 0:00:11\n",
      "\n",
      "Running Validation...\n",
      "  Macro F1 score: 0.94\n",
      "  Validation Loss: 0.33\n",
      "  Validation took: 0:00:01\n",
      "\n",
      "======== Epoch 4 / 6 ========\n",
      "Training...\n",
      "  Batch    40  of     81.    Elapsed: 0:00:05.\n",
      "  Batch    80  of     81.    Elapsed: 0:00:11.\n",
      "current lr is: 5e-05\n",
      "\n",
      "  Average training loss: 0.02\n",
      "  Training epcoh took: 0:00:11\n",
      "\n",
      "Running Validation...\n",
      "  Macro F1 score: 0.93\n",
      "  Validation Loss: 0.34\n",
      "  Validation took: 0:00:01\n",
      "\n",
      "======== Epoch 5 / 6 ========\n",
      "Training...\n",
      "  Batch    40  of     81.    Elapsed: 0:00:05.\n",
      "  Batch    80  of     81.    Elapsed: 0:00:11.\n",
      "current lr is: 5e-05\n",
      "\n",
      "  Average training loss: 0.01\n",
      "  Training epcoh took: 0:00:11\n",
      "\n",
      "Running Validation...\n",
      "  Macro F1 score: 0.95\n",
      "  Validation Loss: 0.29\n",
      "  Validation took: 0:00:01\n",
      "\n",
      "======== Epoch 6 / 6 ========\n",
      "Training...\n",
      "  Batch    40  of     81.    Elapsed: 0:00:06.\n",
      "  Batch    80  of     81.    Elapsed: 0:00:12.\n",
      "current lr is: 5e-05\n",
      "\n",
      "  Average training loss: 0.02\n",
      "  Training epcoh took: 0:00:12\n",
      "\n",
      "Running Validation...\n",
      "  Macro F1 score: 0.94\n",
      "  Validation Loss: 0.32\n",
      "  Validation took: 0:00:01\n",
      "\n",
      "Training complete!\n",
      "Total training took 0:01:12 (h:mm:ss)\n"
     ]
    },
    {
     "data": {
      "image/png": "[encoded data removed]",
      "text/plain": [
       "<Figure size 432x288 with 1 Axes>"
      ]
     },
     "metadata": {
      "needs_background": "light"
     },
     "output_type": "display_data"
    },
    {
     "name": "stderr",
     "output_type": "stream",
     "text": [
      "Truncation was not explicitly activated but `max_length` is provided a specific value, please use `truncation=True` to explicitly truncate examples to max length. Defaulting to 'longest_first' truncation strategy. If you encode pairs of sequences (GLUE-style) with the tokenizer you can select this strategy more precisely by providing a specific strategy to `truncation`.\n"
     ]
    },
    {
     "name": "stdout",
     "output_type": "stream",
     "text": [
      "{'f1_train': 0.9968827918058625, 'f1_val': 0.9427573782061998, 'f1_test': 0.9328762918244142}\n",
      "\n",
      "args: {'epochs': 6, 'batch_size': 20, 'max_length': 60, 'model_name': 'bert', 'lr': 5e-05, 'weight_decay': 0.05, 'freeze_layer_count': 0, 'scheduler_type': 'none', 'decayRate': 0.75}\n",
      "classification report on test set is:\n",
      "\n",
      "              precision    recall  f1-score   support\n",
      "\n",
      "     class 0       0.96      0.91      0.93       328\n",
      "     class 1       0.91      0.96      0.93       328\n",
      "\n",
      "    accuracy                           0.93       656\n",
      "   macro avg       0.93      0.93      0.93       656\n",
      "weighted avg       0.93      0.93      0.93       656\n",
      "\n",
      "confusion matrix on test set is:\n",
      "\n"
     ]
    },
    {
     "data": {
      "image/png": "[encoded data removed]",
      "text/plain": [
       "<Figure size 576x432 with 2 Axes>"
      ]
     },
     "metadata": {
      "needs_background": "light"
     },
     "output_type": "display_data"
    }
   ],
   "source": [
    "#removed the special token version\n",
    "test_pred,test_true,df_test = do_cls(df_train_re_balanced,df_val_re_balanced,df_test_re_balanced,best_args)"
   ]
  },
  {
   "cell_type": "markdown",
   "metadata": {},
   "source": [
    "### limited dataset \n",
    "(600 training data, 656 test data)\n"
   ]
  },
  {
   "cell_type": "code",
   "execution_count": 264,
   "metadata": {},
   "outputs": [
    {
     "name": "stdout",
     "output_type": "stream",
     "text": [
      "\n",
      "======================Doing Bert classification task======================\n"
     ]
    },
    {
     "name": "stderr",
     "output_type": "stream",
     "text": [
      "Truncation was not explicitly activated but `max_length` is provided a specific value, please use `truncation=True` to explicitly truncate examples to max length. Defaulting to 'longest_first' truncation strategy. If you encode pairs of sequences (GLUE-style) with the tokenizer you can select this strategy more precisely by providing a specific strategy to `truncation`.\n"
     ]
    },
    {
     "name": "stdout",
     "output_type": "stream",
     "text": [
      "\n",
      "Loading bert model.\n"
     ]
    },
    {
     "name": "stderr",
     "output_type": "stream",
     "text": [
      "Some weights of the model checkpoint at bert-base-uncased were not used when initializing BertForSequenceClassification: ['cls.predictions.decoder.weight', 'cls.predictions.transform.dense.weight', 'cls.predictions.transform.LayerNorm.weight', 'cls.seq_relationship.weight', 'cls.predictions.transform.LayerNorm.bias', 'cls.seq_relationship.bias', 'cls.predictions.bias', 'cls.predictions.transform.dense.bias']\n",
      "- This IS expected if you are initializing BertForSequenceClassification from the checkpoint of a model trained on another task or with another architecture (e.g. initializing a BertForSequenceClassification model from a BertForPreTraining model).\n",
      "- This IS NOT expected if you are initializing BertForSequenceClassification from the checkpoint of a model that you expect to be exactly identical (initializing a BertForSequenceClassification model from a BertForSequenceClassification model).\n",
      "Some weights of BertForSequenceClassification were not initialized from the model checkpoint at bert-base-uncased and are newly initialized: ['classifier.weight', 'classifier.bias']\n",
      "You should probably TRAIN this model on a down-stream task to be able to use it for predictions and inference.\n"
     ]
    },
    {
     "name": "stdout",
     "output_type": "stream",
     "text": [
      "\n",
      "Training and evaluating the model.\n",
      "\n",
      "======== Epoch 1 / 6 ========\n",
      "Training...\n",
      "current lr is: 5e-05\n",
      "\n",
      "  Average training loss: 0.54\n",
      "  Training epcoh took: 0:00:04\n",
      "\n",
      "Running Validation...\n",
      "  Macro F1 score: 0.90\n",
      "  Validation Loss: 0.29\n",
      "  Validation took: 0:00:01\n",
      "\n",
      "======== Epoch 2 / 6 ========\n",
      "Training...\n",
      "current lr is: 5e-05\n",
      "\n",
      "  Average training loss: 0.16\n",
      "  Training epcoh took: 0:00:04\n",
      "\n",
      "Running Validation...\n",
      "  Macro F1 score: 0.90\n",
      "  Validation Loss: 0.46\n",
      "  Validation took: 0:00:01\n",
      "\n",
      "======== Epoch 3 / 6 ========\n",
      "Training...\n",
      "current lr is: 5e-05\n",
      "\n",
      "  Average training loss: 0.08\n",
      "  Training epcoh took: 0:00:04\n",
      "\n",
      "Running Validation...\n",
      "  Macro F1 score: 0.94\n",
      "  Validation Loss: 0.30\n",
      "  Validation took: 0:00:01\n",
      "\n",
      "======== Epoch 4 / 6 ========\n",
      "Training...\n",
      "current lr is: 5e-05\n",
      "\n",
      "  Average training loss: 0.03\n",
      "  Training epcoh took: 0:00:04\n",
      "\n",
      "Running Validation...\n",
      "  Macro F1 score: 0.94\n",
      "  Validation Loss: 0.30\n",
      "  Validation took: 0:00:01\n",
      "\n",
      "======== Epoch 5 / 6 ========\n",
      "Training...\n",
      "current lr is: 5e-05\n",
      "\n",
      "  Average training loss: 0.05\n",
      "  Training epcoh took: 0:00:04\n",
      "\n",
      "Running Validation...\n",
      "  Macro F1 score: 0.94\n",
      "  Validation Loss: 0.35\n",
      "  Validation took: 0:00:01\n",
      "\n",
      "======== Epoch 6 / 6 ========\n",
      "Training...\n",
      "current lr is: 5e-05\n",
      "\n",
      "  Average training loss: 0.01\n",
      "  Training epcoh took: 0:00:04\n",
      "\n",
      "Running Validation...\n",
      "  Macro F1 score: 0.93\n",
      "  Validation Loss: 0.43\n",
      "  Validation took: 0:00:01\n",
      "\n",
      "Training complete!\n",
      "Total training took 0:00:30 (h:mm:ss)\n"
     ]
    },
    {
     "data": {
      "image/png": "[encoded data removed]",
      "text/plain": [
       "<Figure size 432x288 with 1 Axes>"
      ]
     },
     "metadata": {
      "needs_background": "light"
     },
     "output_type": "display_data"
    },
    {
     "name": "stderr",
     "output_type": "stream",
     "text": [
      "Truncation was not explicitly activated but `max_length` is provided a specific value, please use `truncation=True` to explicitly truncate examples to max length. Defaulting to 'longest_first' truncation strategy. If you encode pairs of sequences (GLUE-style) with the tokenizer you can select this strategy more precisely by providing a specific strategy to `truncation`.\n"
     ]
    },
    {
     "name": "stdout",
     "output_type": "stream",
     "text": [
      "{'f1_train': 0.9966666296292181, 'f1_val': 0.9303206636127275, 'f1_test': 0.9192071293294759}\n",
      "\n",
      "args: {'epochs': 6, 'batch_size': 20, 'max_length': 60, 'model_name': 'bert', 'lr': 5e-05, 'weight_decay': 0.05, 'freeze_layer_count': 0, 'scheduler_type': 'none', 'decayRate': 0.75}\n",
      "classification report on test set is:\n",
      "\n",
      "              precision    recall  f1-score   support\n",
      "\n",
      "     class 0       0.92      0.92      0.92       328\n",
      "     class 1       0.92      0.92      0.92       328\n",
      "\n",
      "    accuracy                           0.92       656\n",
      "   macro avg       0.92      0.92      0.92       656\n",
      "weighted avg       0.92      0.92      0.92       656\n",
      "\n",
      "confusion matrix on test set is:\n",
      "\n"
     ]
    },
    {
     "data": {
      "image/png": "[encoded data removed]",
      "text/plain": [
       "<Figure size 576x432 with 2 Axes>"
      ]
     },
     "metadata": {
      "needs_background": "light"
     },
     "output_type": "display_data"
    }
   ],
   "source": [
    "#kept the special token version\n",
    "df_train_limited= df_train_balanced.sample(600)\n",
    "test_pred,test_true,df_test = do_cls(df_train_limited,df_val_balanced,df_test_balanced,best_args)"
   ]
  },
  {
   "cell_type": "code",
   "execution_count": 262,
   "metadata": {},
   "outputs": [
    {
     "name": "stdout",
     "output_type": "stream",
     "text": [
      "\n",
      "======================Doing Bert classification task======================\n"
     ]
    },
    {
     "name": "stderr",
     "output_type": "stream",
     "text": [
      "Truncation was not explicitly activated but `max_length` is provided a specific value, please use `truncation=True` to explicitly truncate examples to max length. Defaulting to 'longest_first' truncation strategy. If you encode pairs of sequences (GLUE-style) with the tokenizer you can select this strategy more precisely by providing a specific strategy to `truncation`.\n"
     ]
    },
    {
     "name": "stdout",
     "output_type": "stream",
     "text": [
      "\n",
      "Loading bert model.\n"
     ]
    },
    {
     "name": "stderr",
     "output_type": "stream",
     "text": [
      "Some weights of the model checkpoint at bert-base-uncased were not used when initializing BertForSequenceClassification: ['cls.predictions.decoder.weight', 'cls.predictions.transform.dense.weight', 'cls.predictions.transform.LayerNorm.weight', 'cls.seq_relationship.weight', 'cls.predictions.transform.LayerNorm.bias', 'cls.seq_relationship.bias', 'cls.predictions.bias', 'cls.predictions.transform.dense.bias']\n",
      "- This IS expected if you are initializing BertForSequenceClassification from the checkpoint of a model trained on another task or with another architecture (e.g. initializing a BertForSequenceClassification model from a BertForPreTraining model).\n",
      "- This IS NOT expected if you are initializing BertForSequenceClassification from the checkpoint of a model that you expect to be exactly identical (initializing a BertForSequenceClassification model from a BertForSequenceClassification model).\n",
      "Some weights of BertForSequenceClassification were not initialized from the model checkpoint at bert-base-uncased and are newly initialized: ['classifier.weight', 'classifier.bias']\n",
      "You should probably TRAIN this model on a down-stream task to be able to use it for predictions and inference.\n"
     ]
    },
    {
     "name": "stdout",
     "output_type": "stream",
     "text": [
      "\n",
      "Training and evaluating the model.\n",
      "\n",
      "======== Epoch 1 / 6 ========\n",
      "Training...\n",
      "current lr is: 5e-05\n",
      "\n",
      "  Average training loss: 0.47\n",
      "  Training epcoh took: 0:00:04\n",
      "\n",
      "Running Validation...\n",
      "  Macro F1 score: 0.86\n",
      "  Validation Loss: 0.33\n",
      "  Validation took: 0:00:01\n",
      "\n",
      "======== Epoch 2 / 6 ========\n",
      "Training...\n",
      "current lr is: 5e-05\n",
      "\n",
      "  Average training loss: 0.20\n",
      "  Training epcoh took: 0:00:04\n",
      "\n",
      "Running Validation...\n",
      "  Macro F1 score: 0.89\n",
      "  Validation Loss: 0.33\n",
      "  Validation took: 0:00:01\n",
      "\n",
      "======== Epoch 3 / 6 ========\n",
      "Training...\n",
      "current lr is: 5e-05\n",
      "\n",
      "  Average training loss: 0.04\n",
      "  Training epcoh took: 0:00:04\n",
      "\n",
      "Running Validation...\n",
      "  Macro F1 score: 0.89\n",
      "  Validation Loss: 0.49\n",
      "  Validation took: 0:00:01\n",
      "\n",
      "======== Epoch 4 / 6 ========\n",
      "Training...\n",
      "current lr is: 5e-05\n",
      "\n",
      "  Average training loss: 0.01\n",
      "  Training epcoh took: 0:00:04\n",
      "\n",
      "Running Validation...\n",
      "  Macro F1 score: 0.91\n",
      "  Validation Loss: 0.45\n",
      "  Validation took: 0:00:01\n",
      "\n",
      "======== Epoch 5 / 6 ========\n",
      "Training...\n",
      "current lr is: 5e-05\n",
      "\n",
      "  Average training loss: 0.01\n",
      "  Training epcoh took: 0:00:04\n",
      "\n",
      "Running Validation...\n",
      "  Macro F1 score: 0.92\n",
      "  Validation Loss: 0.42\n",
      "  Validation took: 0:00:01\n",
      "\n",
      "======== Epoch 6 / 6 ========\n",
      "Training...\n",
      "current lr is: 5e-05\n",
      "\n",
      "  Average training loss: 0.01\n",
      "  Training epcoh took: 0:00:04\n",
      "\n",
      "Running Validation...\n",
      "  Macro F1 score: 0.90\n",
      "  Validation Loss: 0.57\n",
      "  Validation took: 0:00:01\n",
      "\n",
      "Training complete!\n",
      "Total training took 0:00:30 (h:mm:ss)\n"
     ]
    },
    {
     "data": {
      "image/png": "[encoded data removed]",
      "text/plain": [
       "<Figure size 432x288 with 1 Axes>"
      ]
     },
     "metadata": {
      "needs_background": "light"
     },
     "output_type": "display_data"
    },
    {
     "name": "stderr",
     "output_type": "stream",
     "text": [
      "Truncation was not explicitly activated but `max_length` is provided a specific value, please use `truncation=True` to explicitly truncate examples to max length. Defaulting to 'longest_first' truncation strategy. If you encode pairs of sequences (GLUE-style) with the tokenizer you can select this strategy more precisely by providing a specific strategy to `truncation`.\n"
     ]
    },
    {
     "name": "stdout",
     "output_type": "stream",
     "text": [
      "{'f1_train': 0.9966663332999967, 'f1_val': 0.8950130580773535, 'f1_test': 0.8524239811030707}\n",
      "\n",
      "args: {'epochs': 6, 'batch_size': 20, 'max_length': 60, 'model_name': 'bert', 'lr': 5e-05, 'weight_decay': 0.05, 'freeze_layer_count': 0, 'scheduler_type': 'none', 'decayRate': 0.75}\n",
      "classification report on test set is:\n",
      "\n",
      "              precision    recall  f1-score   support\n",
      "\n",
      "     class 0       0.80      0.95      0.87       328\n",
      "     class 1       0.93      0.76      0.84       328\n",
      "\n",
      "    accuracy                           0.85       656\n",
      "   macro avg       0.87      0.85      0.85       656\n",
      "weighted avg       0.87      0.85      0.85       656\n",
      "\n",
      "confusion matrix on test set is:\n",
      "\n"
     ]
    },
    {
     "data": {
      "image/png": "[encoded data removed]",
      "text/plain": [
       "<Figure size 576x432 with 2 Axes>"
      ]
     },
     "metadata": {
      "needs_background": "light"
     },
     "output_type": "display_data"
    }
   ],
   "source": [
    "#removed the special token version\n",
    "df_train_re_limited= df_train_re_balanced.sample(600)\n",
    "test_pred,test_true,df_test = do_cls(df_train_re_limited,df_val_re_balanced,df_test_re_balanced,best_args)"
   ]
  },
  {
   "cell_type": "code",
   "execution_count": 274,
   "metadata": {},
   "outputs": [
    {
     "data": {
      "image/png": "[encoded data removed]",
      "text/plain": [
       "<Figure size 432x288 with 1 Axes>"
      ]
     },
     "metadata": {
      "needs_background": "light"
     },
     "output_type": "display_data"
    }
   ],
   "source": [
    "fig = plt.figure()\n",
    "ax = fig.add_axes([0, 0, 1, 1])\n",
    "\n",
    "names = ['whole','whole_re','balanced','balanced_re','limited', 'limited_re']\n",
    "scores = [0.94,0.94,0.96,0.93,0.92,0.85]\n",
    "ax.bar(names, scores)\n",
    "ax.set_ylabel('Macro F1 Score', fontsize=12)\n",
    "ax.set_xlabel('Dataset and method (re denotes special tokens removed)', fontsize=12)\n",
    "ax.set_title('Performance comparison of different models and dataset', fontsize=15)\n",
    "ax.set_ylim(0.7, 1)\n",
    "for p in ax.patches[0:]:\n",
    "    h = p.get_height()\n",
    "    x = p.get_x() + p.get_width() / 2.\n",
    "    if h != 0:\n",
    "        ax.annotate(\"%g\" % p.get_height(), xy=(x, h), xytext=(0, 1),\n",
    "                    textcoords=\"offset points\", ha=\"center\", va=\"bottom\")\n",
    "plt.show()"
   ]
  }
 ],
 "metadata": {
  "kernelspec": {
   "display_name": "Python 3",
   "language": "python",
   "name": "python3"
  },
  "language_info": {
   "codemirror_mode": {
    "name": "ipython",
    "version": 3
   },
   "file_extension": ".py",
   "mimetype": "text/x-python",
   "name": "python",
   "nbconvert_exporter": "python",
   "pygments_lexer": "ipython3",
   "version": "3.6.12"
  }
 },
 "nbformat": 4,
 "nbformat_minor": 4
}
